{
 "cells": [
  {
   "cell_type": "code",
   "execution_count": 174,
   "metadata": {
    "collapsed": true
   },
   "outputs": [],
   "source": [
    "import pandas as pd\n",
    "import numpy as np"
   ]
  },
  {
   "cell_type": "code",
   "execution_count": 2,
   "metadata": {
    "collapsed": false
   },
   "outputs": [
    {
     "data": {
      "text/html": [
       "<div>\n",
       "<table border=\"1\" class=\"dataframe\">\n",
       "  <thead>\n",
       "    <tr style=\"text-align: right;\">\n",
       "      <th></th>\n",
       "      <th>date</th>\n",
       "      <th>apple</th>\n",
       "      <th>pen</th>\n",
       "    </tr>\n",
       "  </thead>\n",
       "  <tbody>\n",
       "    <tr>\n",
       "      <th>0</th>\n",
       "      <td>2006-01-01</td>\n",
       "      <td>35086</td>\n",
       "      <td>2730</td>\n",
       "    </tr>\n",
       "    <tr>\n",
       "      <th>1</th>\n",
       "      <td>2006-01-15</td>\n",
       "      <td>35002</td>\n",
       "      <td>2625</td>\n",
       "    </tr>\n",
       "    <tr>\n",
       "      <th>2</th>\n",
       "      <td>2006-02-01</td>\n",
       "      <td>34963</td>\n",
       "      <td>2759</td>\n",
       "    </tr>\n",
       "    <tr>\n",
       "      <th>3</th>\n",
       "      <td>2006-02-15</td>\n",
       "      <td>34869</td>\n",
       "      <td>2715</td>\n",
       "    </tr>\n",
       "    <tr>\n",
       "      <th>4</th>\n",
       "      <td>2006-03-01</td>\n",
       "      <td>35188</td>\n",
       "      <td>2599</td>\n",
       "    </tr>\n",
       "  </tbody>\n",
       "</table>\n",
       "</div>"
      ],
      "text/plain": [
       "         date  apple   pen\n",
       "0  2006-01-01  35086  2730\n",
       "1  2006-01-15  35002  2625\n",
       "2  2006-02-01  34963  2759\n",
       "3  2006-02-15  34869  2715\n",
       "4  2006-03-01  35188  2599"
      ]
     },
     "execution_count": 2,
     "metadata": {},
     "output_type": "execute_result"
    }
   ],
   "source": [
    "df_supply = pd.read_csv('out_input_MS-b1-supply.csv')\n",
    "df_supply.head()"
   ]
  },
  {
   "cell_type": "code",
   "execution_count": 3,
   "metadata": {
    "collapsed": false
   },
   "outputs": [
    {
     "data": {
      "text/html": [
       "<div>\n",
       "<table border=\"1\" class=\"dataframe\">\n",
       "  <thead>\n",
       "    <tr style=\"text-align: right;\">\n",
       "      <th></th>\n",
       "      <th>date</th>\n",
       "      <th>apple</th>\n",
       "      <th>pen</th>\n",
       "    </tr>\n",
       "  </thead>\n",
       "  <tbody>\n",
       "    <tr>\n",
       "      <th>0</th>\n",
       "      <td>2006-01-31</td>\n",
       "      <td>12157</td>\n",
       "      <td>811</td>\n",
       "    </tr>\n",
       "    <tr>\n",
       "      <th>1</th>\n",
       "      <td>2006-02-28</td>\n",
       "      <td>29859</td>\n",
       "      <td>2280</td>\n",
       "    </tr>\n",
       "    <tr>\n",
       "      <th>2</th>\n",
       "      <td>2006-03-31</td>\n",
       "      <td>42135</td>\n",
       "      <td>3317</td>\n",
       "    </tr>\n",
       "    <tr>\n",
       "      <th>3</th>\n",
       "      <td>2006-04-30</td>\n",
       "      <td>55235</td>\n",
       "      <td>4094</td>\n",
       "    </tr>\n",
       "    <tr>\n",
       "      <th>4</th>\n",
       "      <td>2006-05-31</td>\n",
       "      <td>66963</td>\n",
       "      <td>5158</td>\n",
       "    </tr>\n",
       "  </tbody>\n",
       "</table>\n",
       "</div>"
      ],
      "text/plain": [
       "         date  apple   pen\n",
       "0  2006-01-31  12157   811\n",
       "1  2006-02-28  29859  2280\n",
       "2  2006-03-31  42135  3317\n",
       "3  2006-04-30  55235  4094\n",
       "4  2006-05-31  66963  5158"
      ]
     },
     "execution_count": 3,
     "metadata": {},
     "output_type": "execute_result"
    }
   ],
   "source": [
    "df_inventory = pd.read_csv('out_input_MS-b1-inventory.csv')\n",
    "df_inventory.head()"
   ]
  },
  {
   "cell_type": "code",
   "execution_count": 4,
   "metadata": {
    "collapsed": false
   },
   "outputs": [
    {
     "data": {
      "text/html": [
       "<div>\n",
       "<table border=\"1\" class=\"dataframe\">\n",
       "  <thead>\n",
       "    <tr style=\"text-align: right;\">\n",
       "      <th></th>\n",
       "      <th>date</th>\n",
       "      <th>sku_num</th>\n",
       "    </tr>\n",
       "  </thead>\n",
       "  <tbody>\n",
       "    <tr>\n",
       "      <th>0</th>\n",
       "      <td>2006-01-01</td>\n",
       "      <td>MS-b1-ap-48914c5b-14d2-4b20-bdaf-b2ff5d9f4f0c</td>\n",
       "    </tr>\n",
       "    <tr>\n",
       "      <th>1</th>\n",
       "      <td>2006-01-01</td>\n",
       "      <td>MS-b1-ap-6baf7287-3e6a-4728-a3b1-8613de51eef8</td>\n",
       "    </tr>\n",
       "    <tr>\n",
       "      <th>2</th>\n",
       "      <td>2006-01-01</td>\n",
       "      <td>MS-b1-ap-83d7b005-c7d9-4deb-93a2-a8f7606d02b5</td>\n",
       "    </tr>\n",
       "    <tr>\n",
       "      <th>3</th>\n",
       "      <td>2006-01-01</td>\n",
       "      <td>MS-b1-ap-9099c5de-028d-4b07-97be-6f6532b8674a</td>\n",
       "    </tr>\n",
       "    <tr>\n",
       "      <th>4</th>\n",
       "      <td>2006-01-01</td>\n",
       "      <td>MS-b1-ap-ee0ce843-a979-4798-a542-75a41d1610c3</td>\n",
       "    </tr>\n",
       "  </tbody>\n",
       "</table>\n",
       "</div>"
      ],
      "text/plain": [
       "         date                                        sku_num\n",
       "0  2006-01-01  MS-b1-ap-48914c5b-14d2-4b20-bdaf-b2ff5d9f4f0c\n",
       "1  2006-01-01  MS-b1-ap-6baf7287-3e6a-4728-a3b1-8613de51eef8\n",
       "2  2006-01-01  MS-b1-ap-83d7b005-c7d9-4deb-93a2-a8f7606d02b5\n",
       "3  2006-01-01  MS-b1-ap-9099c5de-028d-4b07-97be-6f6532b8674a\n",
       "4  2006-01-01  MS-b1-ap-ee0ce843-a979-4798-a542-75a41d1610c3"
      ]
     },
     "execution_count": 4,
     "metadata": {},
     "output_type": "execute_result"
    }
   ],
   "source": [
    "df_sell = pd.read_csv('out_input_MS-b1-sell.csv')\n",
    "df_sell.head()"
   ]
  },
  {
   "cell_type": "code",
   "execution_count": 172,
   "metadata": {
    "collapsed": false
   },
   "outputs": [],
   "source": [
    "state = df_sell.sku_num[0][:2]"
   ]
  },
  {
   "cell_type": "code",
   "execution_count": 13,
   "metadata": {
    "collapsed": true
   },
   "outputs": [],
   "source": [
    "import datetime"
   ]
  },
  {
   "cell_type": "code",
   "execution_count": 138,
   "metadata": {
    "collapsed": false
   },
   "outputs": [
    {
     "data": {
      "text/html": [
       "<div>\n",
       "<table border=\"1\" class=\"dataframe\">\n",
       "  <thead>\n",
       "    <tr style=\"text-align: right;\">\n",
       "      <th></th>\n",
       "      <th>date</th>\n",
       "      <th>apple</th>\n",
       "      <th>pen</th>\n",
       "    </tr>\n",
       "  </thead>\n",
       "  <tbody>\n",
       "    <tr>\n",
       "      <th>0</th>\n",
       "      <td>2006-01-01</td>\n",
       "      <td>33271.0</td>\n",
       "      <td>2574.0</td>\n",
       "    </tr>\n",
       "    <tr>\n",
       "      <th>0</th>\n",
       "      <td>2006-01-02</td>\n",
       "      <td>31409.0</td>\n",
       "      <td>2431.0</td>\n",
       "    </tr>\n",
       "    <tr>\n",
       "      <th>0</th>\n",
       "      <td>2006-01-03</td>\n",
       "      <td>29529.0</td>\n",
       "      <td>2260.0</td>\n",
       "    </tr>\n",
       "    <tr>\n",
       "      <th>0</th>\n",
       "      <td>2006-01-04</td>\n",
       "      <td>27732.0</td>\n",
       "      <td>2107.0</td>\n",
       "    </tr>\n",
       "    <tr>\n",
       "      <th>0</th>\n",
       "      <td>2006-01-05</td>\n",
       "      <td>25790.0</td>\n",
       "      <td>1974.0</td>\n",
       "    </tr>\n",
       "  </tbody>\n",
       "</table>\n",
       "</div>"
      ],
      "text/plain": [
       "         date    apple     pen\n",
       "0  2006-01-01  33271.0  2574.0\n",
       "0  2006-01-02  31409.0  2431.0\n",
       "0  2006-01-03  29529.0  2260.0\n",
       "0  2006-01-04  27732.0  2107.0\n",
       "0  2006-01-05  25790.0  1974.0"
      ]
     },
     "execution_count": 138,
     "metadata": {},
     "output_type": "execute_result"
    }
   ],
   "source": [
    "total_apples = 0\n",
    "total_pens = 0\n",
    "res_df = pd.DataFrame(columns=['date', 'apple', 'pen'])\n",
    "\n",
    "from_ind = 0\n",
    "to_ind = 0\n",
    "prev_date = '2006-01-01'\n",
    "\n",
    "for cur_sell in df_sell.values:\n",
    "    str_d = cur_sell[0]\n",
    "    code = cur_sell[1][6:8]\n",
    "    \n",
    "    if prev_date != str_d:\n",
    "        sup = df_supply[df_supply.date==prev_date]\n",
    "        \n",
    "        if sup.shape[0] == 1:\n",
    "            total_apples += int(sup.apple)\n",
    "            total_pens += int(sup.pen)\n",
    "\n",
    "        cur_df = pd.DataFrame(columns=['date', 'apple', 'pen'], data=[[prev_date, total_apples, total_pens]])\n",
    "        res_df = res_df.append(cur_df)\n",
    "    \n",
    "    prev_date = str_d\n",
    "\n",
    "    if code == 'ap':\n",
    "        total_apples -= 1\n",
    "    else:\n",
    "        total_pens -= 1\n",
    "\n",
    "\n",
    "sup = df_supply[df_supply.date==str_d]\n",
    "if sup.shape[0] == 1:\n",
    "    total_apples += int(sup.apple)\n",
    "    total_pens += int(sup.pen)\n",
    "cur_df = pd.DataFrame(columns=['date', 'apple', 'pen'], data=[[str_d, total_apples, total_pens]])\n",
    "res_df = res_df.append(cur_df)\n",
    "res_df.head()"
   ]
  },
  {
   "cell_type": "code",
   "execution_count": 142,
   "metadata": {
    "collapsed": false
   },
   "outputs": [
    {
     "data": {
      "text/html": [
       "<div>\n",
       "<table border=\"1\" class=\"dataframe\">\n",
       "  <thead>\n",
       "    <tr style=\"text-align: right;\">\n",
       "      <th></th>\n",
       "      <th>date</th>\n",
       "      <th>apple</th>\n",
       "      <th>pen</th>\n",
       "    </tr>\n",
       "  </thead>\n",
       "  <tbody>\n",
       "    <tr>\n",
       "      <th>0</th>\n",
       "      <td>2006-01-31</td>\n",
       "      <td>10.0</td>\n",
       "      <td>11.0</td>\n",
       "    </tr>\n",
       "    <tr>\n",
       "      <th>0</th>\n",
       "      <td>2006-02-28</td>\n",
       "      <td>6.0</td>\n",
       "      <td>6.0</td>\n",
       "    </tr>\n",
       "    <tr>\n",
       "      <th>0</th>\n",
       "      <td>2006-03-31</td>\n",
       "      <td>7.0</td>\n",
       "      <td>6.0</td>\n",
       "    </tr>\n",
       "    <tr>\n",
       "      <th>0</th>\n",
       "      <td>2006-04-30</td>\n",
       "      <td>6.0</td>\n",
       "      <td>14.0</td>\n",
       "    </tr>\n",
       "    <tr>\n",
       "      <th>0</th>\n",
       "      <td>2006-05-31</td>\n",
       "      <td>8.0</td>\n",
       "      <td>1.0</td>\n",
       "    </tr>\n",
       "  </tbody>\n",
       "</table>\n",
       "</div>"
      ],
      "text/plain": [
       "         date  apple   pen\n",
       "0  2006-01-31   10.0  11.0\n",
       "0  2006-02-28    6.0   6.0\n",
       "0  2006-03-31    7.0   6.0\n",
       "0  2006-04-30    6.0  14.0\n",
       "0  2006-05-31    8.0   1.0"
      ]
     },
     "execution_count": 142,
     "metadata": {},
     "output_type": "execute_result"
    }
   ],
   "source": [
    "stolen_df = pd.DataFrame(columns=['date', 'apple', 'pen'])\n",
    "\n",
    "total_stolen_apples = 0\n",
    "total_stolen_pens = 0\n",
    "\n",
    "for x in df_inventory.values:\n",
    "    cur_d = x[0]\n",
    "    paper_apples = x[1]\n",
    "    paper_pens = x[2]\n",
    "    real_inv = res_df[res_df.date==x[0]]\n",
    "    real_apples = int(real_inv.apple)\n",
    "    real_pens = int(real_inv.pen)\n",
    "    cur_apples = real_apples-paper_apples-total_stolen_apples\n",
    "    cur_pens = real_pens-paper_pens-total_stolen_pens\n",
    "    cur_df = pd.DataFrame(columns=['date', 'apple', 'pen'], data=[[cur_d, cur_apples, cur_pens]])\n",
    "    total_stolen_apples += cur_apples\n",
    "    total_stolen_pens += cur_pens\n",
    "    stolen_df = stolen_df.append(cur_df)\n",
    "stolen_df.head()"
   ]
  },
  {
   "cell_type": "code",
   "execution_count": 173,
   "metadata": {
    "collapsed": false
   },
   "outputs": [
    {
     "data": {
      "text/html": [
       "<div>\n",
       "<table border=\"1\" class=\"dataframe\">\n",
       "  <thead>\n",
       "    <tr style=\"text-align: right;\">\n",
       "      <th></th>\n",
       "      <th>year</th>\n",
       "      <th>state</th>\n",
       "      <th>apple_sold</th>\n",
       "      <th>apple_stolen</th>\n",
       "      <th>pen_sold</th>\n",
       "      <th>pen_stolen</th>\n",
       "    </tr>\n",
       "  </thead>\n",
       "  <tbody>\n",
       "    <tr>\n",
       "      <th>0</th>\n",
       "      <td>2006.0</td>\n",
       "      <td>MS</td>\n",
       "      <td>681341.0</td>\n",
       "      <td>78.0</td>\n",
       "      <td>52555.0</td>\n",
       "      <td>91.0</td>\n",
       "    </tr>\n",
       "    <tr>\n",
       "      <th>0</th>\n",
       "      <td>2007.0</td>\n",
       "      <td>MS</td>\n",
       "      <td>1362622.0</td>\n",
       "      <td>146.0</td>\n",
       "      <td>104494.0</td>\n",
       "      <td>167.0</td>\n",
       "    </tr>\n",
       "    <tr>\n",
       "      <th>0</th>\n",
       "      <td>2008.0</td>\n",
       "      <td>MS</td>\n",
       "      <td>2047732.0</td>\n",
       "      <td>224.0</td>\n",
       "      <td>156526.0</td>\n",
       "      <td>240.0</td>\n",
       "    </tr>\n",
       "    <tr>\n",
       "      <th>0</th>\n",
       "      <td>2009.0</td>\n",
       "      <td>MS</td>\n",
       "      <td>2730028.0</td>\n",
       "      <td>305.0</td>\n",
       "      <td>208937.0</td>\n",
       "      <td>336.0</td>\n",
       "    </tr>\n",
       "    <tr>\n",
       "      <th>0</th>\n",
       "      <td>2010.0</td>\n",
       "      <td>MS</td>\n",
       "      <td>3410439.0</td>\n",
       "      <td>373.0</td>\n",
       "      <td>261537.0</td>\n",
       "      <td>432.0</td>\n",
       "    </tr>\n",
       "  </tbody>\n",
       "</table>\n",
       "</div>"
      ],
      "text/plain": [
       "     year state  apple_sold  apple_stolen  pen_sold  pen_stolen\n",
       "0  2006.0    MS    681341.0          78.0   52555.0        91.0\n",
       "0  2007.0    MS   1362622.0         146.0  104494.0       167.0\n",
       "0  2008.0    MS   2047732.0         224.0  156526.0       240.0\n",
       "0  2009.0    MS   2730028.0         305.0  208937.0       336.0\n",
       "0  2010.0    MS   3410439.0         373.0  261537.0       432.0"
      ]
     },
     "execution_count": 173,
     "metadata": {},
     "output_type": "execute_result"
    }
   ],
   "source": [
    "cols = ['year', 'state', 'apple_sold', 'apple_stolen', 'pen_sold', 'pen_stolen']\n",
    "year_df = pd.DataFrame(columns=cols)\n",
    "\n",
    "cur_year = 2006\n",
    "supply_pens = 0\n",
    "supply_apples = 0\n",
    "ind = 0\n",
    "\n",
    "for x in df_supply.values:\n",
    "    cur_date = x[0]\n",
    "    supply_apples += x[1]\n",
    "    supply_pens += x[2]\n",
    "    \n",
    "    if ind % 24 == 23:\n",
    "        cur_date = cur_date[:-2]+'31'\n",
    "        apple_sold = supply_apples-int(res_df[res_df.date==cur_date].apple)\n",
    "        pen_sold = supply_pens-int(res_df[res_df.date==cur_date].pen)\n",
    "        pen_stolen = int(res_df[res_df.date==cur_date].pen)-int(df_inventory[df_inventory.date==cur_date].pen)\n",
    "        apple_stolen = int(res_df[res_df.date==cur_date].apple)-int(df_inventory[df_inventory.date==cur_date].apple)\n",
    "        cur_df = pd.DataFrame(columns=cols, data=[[cur_year, state, apple_sold, apple_stolen, pen_sold, pen_stolen]])\n",
    "        year_df = year_df.append(cur_df)\n",
    "        cur_year += 1\n",
    "    ind += 1\n",
    "year_df.head()"
   ]
  }
 ],
 "metadata": {
  "kernelspec": {
   "display_name": "Python [Root]",
   "language": "python",
   "name": "Python [Root]"
  },
  "language_info": {
   "codemirror_mode": {
    "name": "ipython",
    "version": 3
   },
   "file_extension": ".py",
   "mimetype": "text/x-python",
   "name": "python",
   "nbconvert_exporter": "python",
   "pygments_lexer": "ipython3",
   "version": "3.5.2"
  }
 },
 "nbformat": 4,
 "nbformat_minor": 0
}
