{
 "cells": [
  {
   "cell_type": "code",
   "execution_count": 1,
   "metadata": {
    "collapsed": true
   },
   "outputs": [],
   "source": [
    "import csv\n",
    "import pandas as pd\n",
    "import numpy as np\n",
    "import os"
   ]
  },
  {
   "cell_type": "code",
   "execution_count": 2,
   "metadata": {
    "collapsed": false
   },
   "outputs": [],
   "source": [
    "items = ['apple', 'pen']\n",
    "item_short_name = {'ap': 'apple', 'pe': 'pen'}"
   ]
  },
  {
   "cell_type": "markdown",
   "metadata": {},
   "source": [
    "# Read sell information"
   ]
  },
  {
   "cell_type": "code",
   "execution_count": 3,
   "metadata": {
    "collapsed": false
   },
   "outputs": [],
   "source": [
    "def get_sell_info(filename):\n",
    "    raw_sell_info = pd.read_csv(filename)\n",
    "    states = raw_sell_info['sku_num'].map(lambda x: x.split('-')[0])\n",
    "    state = states[0]\n",
    "    raw_sell_info['sku_num'] = raw_sell_info['sku_num'].map(lambda x: x.split('-')[2])\n",
    "    \n",
    "    for sh_i, item in item_short_name.items():\n",
    "        raw_sell_info[item] = raw_sell_info['sku_num'].map(lambda x: int(x == sh_i))\n",
    "    \n",
    "    \n",
    "    sell_info = pd.DataFrame(columns=['date'] + items)\n",
    "    \n",
    "    grouped = raw_sell_info.groupby('date')\n",
    "    for date, gr in grouped:\n",
    "        ser = pd.Series(index = ['date'] + items)\n",
    "        ser[items] = gr[items].sum()\n",
    "        ser['date'] = date\n",
    "        sell_info = sell_info.append(ser, ignore_index=True)\n",
    "    \n",
    "    sell_info[items] = sell_info[items].astype(int)\n",
    "    \n",
    "    sell_info = sell_info.set_index('date')\n",
    "    return sell_info, state"
   ]
  },
  {
   "cell_type": "code",
   "execution_count": 4,
   "metadata": {
    "collapsed": false
   },
   "outputs": [],
   "source": [
    "if os.path.isfile('temporary/sell_info.csv'):\n",
    "    sell_info = pd.read_csv('temporary/sell_info.csv', index_col='date')\n",
    "    with open('temporary/state') as file:\n",
    "        state = file.readline()\n",
    "else:\n",
    "    sell_info, state = get_sell_info('inputdata/sell.csv')\n",
    "    sell_info.to_csv('temporary/sell_info.csv')\n",
    "    with open('temporary/state', 'w') as file:\n",
    "        file.write(state)"
   ]
  },
  {
   "cell_type": "markdown",
   "metadata": {
    "collapsed": false
   },
   "source": [
    "# Read inventory and supply information"
   ]
  },
  {
   "cell_type": "code",
   "execution_count": null,
   "metadata": {
    "collapsed": false
   },
   "outputs": [],
   "source": [
    "inventory_info = pd.read_csv('inputdata/inventory.csv', index_col='date')\n",
    "supply_info = pd.read_csv('inputdata/supply.csv', index_col='date')"
   ]
  },
  {
   "cell_type": "markdown",
   "metadata": {
    "collapsed": true
   },
   "source": [
    "# add date from inventory and supply to sell (if it wasn't there before)"
   ]
  },
  {
   "cell_type": "code",
   "execution_count": null,
   "metadata": {
    "collapsed": false
   },
   "outputs": [],
   "source": [
    "def add_row(df_from, df_to):\n",
    "    was_changes = False\n",
    "    for index in df_from.index:\n",
    "        if index not in df_to.index:\n",
    "            was_changes = True\n",
    "            df_to.loc[index] = pd.Series(index = items, data = 0)\n",
    "    \n",
    "    return was_changes"
   ]
  },
  {
   "cell_type": "code",
   "execution_count": null,
   "metadata": {
    "collapsed": false
   },
   "outputs": [],
   "source": [
    "def add_sel(sell_info, inventory_info, supply_info):\n",
    "    wc = add_row(inventory_info, sell_info)\n",
    "    wc = wc or add_row(supply_info, sell_info)\n",
    "    if wc:\n",
    "        sell_info = sell_info.sort_index()\n",
    "        \n",
    "    return sell_info"
   ]
  },
  {
   "cell_type": "code",
   "execution_count": null,
   "metadata": {
    "collapsed": false
   },
   "outputs": [],
   "source": [
    "sell_info = add_sel(sell_info, inventory_info, supply_info)"
   ]
  },
  {
   "cell_type": "markdown",
   "metadata": {},
   "source": [
    "# calculate number of items in store for every day"
   ]
  },
  {
   "cell_type": "code",
   "execution_count": null,
   "metadata": {
    "collapsed": false
   },
   "outputs": [],
   "source": [
    "def get_daily(sell_info, supply_info, inventory_info):    \n",
    "    last_remain = pd.Series(index=items, data=0)\n",
    "\n",
    "    store_info = pd.DataFrame(columns= ['date'] + items)\n",
    "    stolen_info = pd.DataFrame(columns=['date'] + items)\n",
    "\n",
    "    for date, row in sell_info.iterrows():\n",
    "        if date in supply_info.index:\n",
    "            sup = supply_info.loc[date]\n",
    "        else:\n",
    "            sup = pd.Series(index=items, data=0)\n",
    "\n",
    "        should_be = last_remain + sup - row\n",
    "\n",
    "        if date in inventory_info.index:        \n",
    "            cur_inv = inventory_info.loc[date]\n",
    "            add_store = cur_store = cur_inv\n",
    "            add_store['date'] = date\n",
    "            store_info = store_info.append(add_store, ignore_index=True)\n",
    "            \n",
    "            cur_st = should_be - cur_inv\n",
    "            cur_st['date'] = date\n",
    "            stolen_info = stolen_info.append(cur_st, ignore_index=True)\n",
    "        else:        \n",
    "            cur_store = should_be\n",
    "            should_be['date'] = date\n",
    "            store_info = store_info.append(should_be, ignore_index=True)\n",
    "        last_remain = cur_store\n",
    "        \n",
    "    store_info[items] = store_info[items].astype(int)\n",
    "    stolen_info[items] = stolen_info[items].astype(int)\n",
    "    return store_info, stolen_info"
   ]
  },
  {
   "cell_type": "code",
   "execution_count": null,
   "metadata": {
    "collapsed": false
   },
   "outputs": [],
   "source": [
    "if os.path.isfile('result/daily.csv'):\n",
    "    daily = pd.read_csv('result/daily.csv')\n",
    "    stolen_info = pd.read_csv('temporary/stolen.csv')\n",
    "else:\n",
    "    daily, stolen_info = get_daily(sell_info, supply_info, inventory_info)\n",
    "    daily.to_csv('result/daily.csv', index=False)\n",
    "    stolen_info.to_csv('temporary/stolen.csv', index=False)"
   ]
  },
  {
   "cell_type": "code",
   "execution_count": null,
   "metadata": {
    "collapsed": true
   },
   "outputs": [],
   "source": [
    "def get_annual_report(df):\n",
    "    df['year'] = df['date'].map(lambda x: x.split('-')[0])\n",
    "    annual_report = pd.DataFrame()\n",
    "    grouped = df.groupby('year')\n",
    "    \n",
    "    for year, gr in grouped:\n",
    "        ser = pd.Series(index=items)\n",
    "        ser[items] = gr[items].sum()\n",
    "        ser['year'] = year\n",
    "        annual_report = annual_report.append(ser, ignore_index=True)\n",
    "    annual_report[items] = annual_report[items].astype(int)\n",
    "    return annual_report"
   ]
  },
  {
   "cell_type": "code",
   "execution_count": null,
   "metadata": {
    "collapsed": false
   },
   "outputs": [],
   "source": [
    "sell_info = sell_info.reset_index()"
   ]
  },
  {
   "cell_type": "code",
   "execution_count": null,
   "metadata": {
    "collapsed": false
   },
   "outputs": [],
   "source": [
    "stolen_annual = get_annual_report(stolen_info)\n",
    "sold_annual = get_annual_report(sell_info)"
   ]
  },
  {
   "cell_type": "code",
   "execution_count": null,
   "metadata": {
    "collapsed": false
   },
   "outputs": [],
   "source": [
    "full_annual = pd.merge(stolen_annual, sold_annual, how='outer', suffixes=['_stolen', '_sold'], on='year')\n",
    "full_annual = full_annual.fillna(0)\n",
    "full_annual['state'] = state"
   ]
  },
  {
   "cell_type": "code",
   "execution_count": null,
   "metadata": {
    "collapsed": false
   },
   "outputs": [],
   "source": [
    "columns_order = ['year', 'state']\n",
    "for item in items:\n",
    "    columns_order += [item + '_sold', item + '_stolen']\n",
    "full_annual.to_csv('result/annual_reports.csv', index=False, columns = columns_order)"
   ]
  }
 ],
 "metadata": {
  "kernelspec": {
   "display_name": "Python 3",
   "language": "python",
   "name": "python3"
  },
  "language_info": {
   "codemirror_mode": {
    "name": "ipython",
    "version": 3
   },
   "file_extension": ".py",
   "mimetype": "text/x-python",
   "name": "python",
   "nbconvert_exporter": "python",
   "pygments_lexer": "ipython3",
   "version": "3.5.2"
  }
 },
 "nbformat": 4,
 "nbformat_minor": 1
}
