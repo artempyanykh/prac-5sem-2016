{
 "cells": [
  {
   "cell_type": "code",
   "execution_count": 34,
   "metadata": {
    "collapsed": false
   },
   "outputs": [
    {
     "name": "stdout",
     "output_type": "stream",
     "text": [
      "Cпектр оптимальной стратегии состоит из одной точки\n",
      "Значение игры = 5\n",
      "p = [0, 1, 0]\n",
      "q = [0, 0, 1, 0]\n"
     ]
    },
    {
     "data": {
      "image/png": "[encoded data removed]",
      "text/plain": [
       "<matplotlib.figure.Figure at 0x7ffb4241b240>"
      ]
     },
     "metadata": {},
     "output_type": "display_data"
    },
    {
     "data": {
      "image/png": "[encoded data removed]",
      "text/plain": [
       "<matplotlib.figure.Figure at 0x7ffb42bd0898>"
      ]
     },
     "metadata": {},
     "output_type": "display_data"
    },
    {
     "name": "stdout",
     "output_type": "stream",
     "text": [
      "Cпектр оптимальной стратегии неполон\n",
      "Значение игры = 5.4\n",
      "p = [ 0.   0.8  0.2]\n",
      "q = [ 0.6  0.4  0. ]\n"
     ]
    },
    {
     "data": {
      "image/png": "[encoded data removed]",
      "text/plain": [
       "<matplotlib.figure.Figure at 0x7ffb42300828>"
      ]
     },
     "metadata": {},
     "output_type": "display_data"
    },
    {
     "data": {
      "image/png": "[encoded data removed]",
      "text/plain": [
       "<matplotlib.figure.Figure at 0x7ffb42bff908>"
      ]
     },
     "metadata": {},
     "output_type": "display_data"
    },
    {
     "name": "stdout",
     "output_type": "stream",
     "text": [
      "Cпектр оптимальной стратегии полон\n",
      "Значение игры = 4.55555555556\n",
      "p = [ 0.22222222  0.22222222  0.55555556]\n",
      "q = [ 0.22222222  0.55555556  0.22222222]\n"
     ]
    },
    {
     "data": {
      "image/png": "[encoded data removed]",
      "text/plain": [
       "<matplotlib.figure.Figure at 0x7ffb4226ec88>"
      ]
     },
     "metadata": {},
     "output_type": "display_data"
    },
    {
     "data": {
      "image/png": "[encoded data removed]",
      "text/plain": [
       "<matplotlib.figure.Figure at 0x7ffb42439da0>"
      ]
     },
     "metadata": {},
     "output_type": "display_data"
    }
   ],
   "source": [
    "import numpy as np\n",
    "from scipy.optimize import linprog\n",
    "import matplotlib.pyplot as plt\n",
    "%matplotlib inline\n",
    "\n",
    "def nash_equilibrium(A):\n",
    "    #проверка на наличие седловой точки\n",
    "    maxmin = np.max(np.min(A, axis = 1))\n",
    "    maxmincoord = np.where(A == maxmin)\n",
    "    minmax = np.min(np.max(A, axis = 0))\n",
    "    minmaxcoord = np.where(A == minmax)\n",
    "    if maxmin == minmax: #решение игры в чистых стратегиях\n",
    "        for i in range(len(maxmincoord[0])):\n",
    "            for j in range(len(minmaxcoord[0])):\n",
    "                if (maxmincoord[0][i] == minmaxcoord[0][j]) and (maxmincoord[1][i] == minmaxcoord[1][j]):\n",
    "                    coord = [maxmincoord[0][i], maxmincoord[1][i]]\n",
    "        p = [0] * len(A)\n",
    "        p[coord[0]] = 1;\n",
    "        q = [0] * len(A[0])\n",
    "        q[coord[1]] = 1;\n",
    "        return maxmin, p, q\n",
    "    else: #решение игры в смешанных стратегиях, путем сведения к двойственной ЗЛП \n",
    "        Z = -A.T\n",
    "        c = [1] * len(Z[0])\n",
    "        b = [-1] * len(Z)\n",
    "        bnds = [(0, None)] * len(Z[0])\n",
    "        res = linprog(c, Z, b, bounds=bnds)\n",
    "        v = 1/np.sum(res.x)\n",
    "        p = v * res.x\n",
    "\n",
    "        W = A\n",
    "        c = [-1] * len(W[0])\n",
    "        b = [1] * len(W)\n",
    "        bnds = [(0, None)] * len(W[0])\n",
    "        res2 = linprog(c, W, b, bounds=bnds)\n",
    "        q = v * res2.x\n",
    "        return v, p, q\n",
    "    \n",
    "def draw_spectr(strat):\n",
    "    plt.xlim([0, len(strat)+1])\n",
    "    plt.ylim([0, np.max(strat)+1])\n",
    "    for i in range(len(strat)):\n",
    "        plt.scatter(i+1, strat[i])\n",
    "        plt.plot([i+1, i+1], [0, strat[i]])\n",
    "    plt.show()\n",
    "    \n",
    "print(\"Cпектр оптимальной стратегии состоит из одной точки\")\n",
    "nash_array = np.array([[7, 10, 4, 1], [6, 8, 5, 12], [8, -3, 2, 11]])\n",
    "v, p, q = nash_equilibrium(nash_array)\n",
    "print(\"Значение игры =\", v)\n",
    "print(\"p =\", p)\n",
    "print(\"q =\", q)\n",
    "draw_spectr(p)\n",
    "draw_spectr(q)\n",
    "\n",
    "print(\"Cпектр оптимальной стратегии неполон\")\n",
    "nash_array = np.array([[4, 1, 3], [5, 6, 10], [7, 3, 4]])\n",
    "v, p, q = nash_equilibrium(nash_array)\n",
    "print(\"Значение игры =\", v)\n",
    "print(\"p =\", p)\n",
    "print(\"q =\", q)\n",
    "draw_spectr(p)\n",
    "draw_spectr(q)\n",
    "\n",
    "print(\"Cпектр оптимальной стратегии полон\")\n",
    "nash_array = np.array([[8, 3, 5], [5, 5, 3], [3, 5, 5]])\n",
    "v, p, q = nash_equilibrium(nash_array)\n",
    "print(\"Значение игры =\", v)\n",
    "print(\"p =\", p)\n",
    "print(\"q =\", q)\n",
    "draw_spectr(p)\n",
    "draw_spectr(q)\n"
   ]
  },
  {
   "cell_type": "code",
   "execution_count": null,
   "metadata": {
    "collapsed": true
   },
   "outputs": [],
   "source": []
  },
  {
   "cell_type": "code",
   "execution_count": null,
   "metadata": {
    "collapsed": true
   },
   "outputs": [],
   "source": []
  }
 ],
 "metadata": {
  "anaconda-cloud": {},
  "kernelspec": {
   "display_name": "Python [Root]",
   "language": "python",
   "name": "Python [Root]"
  },
  "language_info": {
   "codemirror_mode": {
    "name": "ipython",
    "version": 3
   },
   "file_extension": ".py",
   "mimetype": "text/x-python",
   "name": "python",
   "nbconvert_exporter": "python",
   "pygments_lexer": "ipython3",
   "version": "3.5.2"
  }
 },
 "nbformat": 4,
 "nbformat_minor": 0
}
