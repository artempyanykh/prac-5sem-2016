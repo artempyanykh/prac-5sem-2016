{
 "cells": [
  {
   "cell_type": "code",
   "execution_count": 14,
   "metadata": {
    "collapsed": true
   },
   "outputs": [],
   "source": [
    "import numpy as np\n",
    "import matplotlib.pyplot as pl\n",
    "\n",
    "from scipy.optimize import linprog\n",
    "%matplotlib inline"
   ]
  },
  {
   "cell_type": "code",
   "execution_count": 18,
   "metadata": {
    "collapsed": false
   },
   "outputs": [],
   "source": [
    "def nash_equilibrium(A):\n",
    "    def calc(A, inv_transpose=False):\n",
    "        Z = -A.T if inv_transpose else A\n",
    "        coef = 1 if inv_transpose else -1\n",
    "        res = linprog(coef * np.ones(Z.shape[1]), Z, -coef * np.ones(Z.shape[0]))\n",
    "        return res.x\n",
    "    \n",
    "    Amin = min(0, np.amin(A))\n",
    "    A -= Amin\n",
    "    \n",
    "    minmax = np.min(np.max(A, 0))\n",
    "    maxmin = np.max(np.min(A, 1))\n",
    "    minmax_pos = np.where(A == minmax)\n",
    "    maxmin_pos = np.where(A == maxmin)\n",
    "    \n",
    "    if minmax == maxmin:\n",
    "        p = np.zeros(A.shape[0])\n",
    "        q = np.zeros(A.shape[1])\n",
    "        \n",
    "        pq_pos = (-1, -1);\n",
    "        for i in xrange(len(maxmin_pos[0])):\n",
    "            for j in xrange(len(minmax_pos[0])):\n",
    "                if (maxmin_pos[0][i] == minmax_pos[0][j]) and (maxmin_pos[1][i] == minmax_pos[1][j]):\n",
    "                    pq_pos = (maxmin_pos[0][i], maxmin_pos[1][i])\n",
    "        p[pq_pos[0]] = q[pq_pos[1]] = 1\n",
    "        return maxmin + Amin, p, q\n",
    "    else:\n",
    "        p = calc(A, inv_transpose=True)\n",
    "        q = calc(A, inv_transpose=False)       \n",
    "        return (1 / np.sum(p)) + Amin, p / np.sum(p), q / np.sum(q)"
   ]
  },
  {
   "cell_type": "code",
   "execution_count": 19,
   "metadata": {
    "collapsed": false
   },
   "outputs": [
    {
     "data": {
      "text/plain": [
       "(0, array([ 0.,  1.]), array([ 0.,  1.]))"
      ]
     },
     "execution_count": 19,
     "metadata": {},
     "output_type": "execute_result"
    }
   ],
   "source": [
    "z = np.array([[0, 0], [0, 0]])\n",
    "nash_equilibrium(z)"
   ]
  },
  {
   "cell_type": "code",
   "execution_count": 20,
   "metadata": {
    "collapsed": true
   },
   "outputs": [],
   "source": [
    "def draw_plot(strategy):\n",
    "    pl.xlim([0, strategy.shape[0] + 1])\n",
    "    pl.ylim([0, np.max(strategy) + 1])\n",
    "    for i in xrange(strategy.shape[0]):\n",
    "        pl.scatter(i + 1, strategy[i])\n",
    "        pl.plot([i + 1, i + 1], [0, strategy[i]])\n",
    "    pl.show()"
   ]
  },
  {
   "cell_type": "code",
   "execution_count": 21,
   "metadata": {
    "collapsed": true
   },
   "outputs": [],
   "source": [
    "def solve_and_visualise(matrix):\n",
    "    v, p, q = nash_equilibrium(matrix)\n",
    "    print \"Значение игры =\", v\n",
    "    print \"p =\", p\n",
    "    print \"q =\", q\n",
    "\n",
    "    draw_plot(p)\n",
    "    draw_plot(q)"
   ]
  },
  {
   "cell_type": "code",
   "execution_count": 22,
   "metadata": {
    "collapsed": false
   },
   "outputs": [
    {
     "name": "stdout",
     "output_type": "stream",
     "text": [
      "Cпектр оптимальной стратегии состоит из одной точки\n",
      "Значение игры = 15\n",
      "p = [ 1.  0.  0.]\n",
      "q = [ 0.  0.  1.  0.]\n"
     ]
    },
    {
     "name": "stderr",
     "output_type": "stream",
     "text": [
      "C:\\Anaconda\\lib\\site-packages\\matplotlib\\collections.py:590: FutureWarning: elementwise comparison failed; returning scalar instead, but in the future will perform elementwise comparison\n",
      "  if self._edgecolors == str('face'):\n"
     ]
    },
    {
     "data": {
      "image/png": "[encoded data removed]",
      "text/plain": [
       "<matplotlib.figure.Figure at 0x41fc780>"
      ]
     },
     "metadata": {},
     "output_type": "display_data"
    },
    {
     "data": {
      "image/png": "[encoded data removed]",
      "text/plain": [
       "<matplotlib.figure.Figure at 0x1b1b6ef0>"
      ]
     },
     "metadata": {},
     "output_type": "display_data"
    }
   ],
   "source": [
    "print \"Cпектр оптимальной стратегии состоит из одной точки\"\n",
    "test_matrix = np.array([[18, 24, 15, 36], [24, -9, 6, 33], [21, 30, 12, 3]])\n",
    "solve_and_visualise(test_matrix)"
   ]
  },
  {
   "cell_type": "code",
   "execution_count": 23,
   "metadata": {
    "collapsed": false
   },
   "outputs": [
    {
     "name": "stdout",
     "output_type": "stream",
     "text": [
      "Cпектр оптимальной стратегии неполон\n",
      "Значение игры = 27.0\n",
      "p = [ 0.2  0.8  0. ]\n",
      "q = [ 0.6  0.4  0. ]\n"
     ]
    },
    {
     "data": {
      "image/png": "[encoded data removed]",
      "text/plain": [
       "<matplotlib.figure.Figure at 0x1b3d2d30>"
      ]
     },
     "metadata": {},
     "output_type": "display_data"
    },
    {
     "data": {
      "image/png": "[encoded data removed]",
      "text/plain": [
       "<matplotlib.figure.Figure at 0x1b394908>"
      ]
     },
     "metadata": {},
     "output_type": "display_data"
    }
   ],
   "source": [
    "print \"Cпектр оптимальной стратегии неполон\"\n",
    "test_matrix = np.array([[35, 15, 20], [25, 30, 50], [20, 5, 15]])\n",
    "solve_and_visualise(test_matrix)"
   ]
  },
  {
   "cell_type": "code",
   "execution_count": 24,
   "metadata": {
    "collapsed": false
   },
   "outputs": [
    {
     "name": "stdout",
     "output_type": "stream",
     "text": [
      "Cпектр оптимальной стратегии полон\n",
      "Значение игры = 13.6666666667\n",
      "p = [ 0.22222222  0.55555556  0.22222222]\n",
      "q = [ 0.55555556  0.22222222  0.22222222]\n"
     ]
    },
    {
     "data": {
      "image/png": "[encoded data removed]",
      "text/plain": [
       "<matplotlib.figure.Figure at 0x1b739be0>"
      ]
     },
     "metadata": {},
     "output_type": "display_data"
    },
    {
     "data": {
      "image/png": "[encoded data removed]",
      "text/plain": [
       "<matplotlib.figure.Figure at 0x1b26a2b0>"
      ]
     },
     "metadata": {},
     "output_type": "display_data"
    }
   ],
   "source": [
    "print \"Cпектр оптимальной стратегии полон\"\n",
    "test_matrix = np.array([[15, 15, 9], [15, 9, 15], [9, 24, 15]])\n",
    "solve_and_visualise(test_matrix)"
   ]
  },
  {
   "cell_type": "code",
   "execution_count": null,
   "metadata": {
    "collapsed": true
   },
   "outputs": [],
   "source": []
  },
  {
   "cell_type": "code",
   "execution_count": null,
   "metadata": {
    "collapsed": true
   },
   "outputs": [],
   "source": []
  },
  {
   "cell_type": "code",
   "execution_count": null,
   "metadata": {
    "collapsed": true
   },
   "outputs": [],
   "source": []
  }
 ],
 "metadata": {
  "kernelspec": {
   "display_name": "Python 2",
   "language": "python",
   "name": "python2"
  },
  "language_info": {
   "codemirror_mode": {
    "name": "ipython",
    "version": 2
   },
   "file_extension": ".py",
   "mimetype": "text/x-python",
   "name": "python",
   "nbconvert_exporter": "python",
   "pygments_lexer": "ipython2",
   "version": "2.7.11"
  }
 },
 "nbformat": 4,
 "nbformat_minor": 0
}
