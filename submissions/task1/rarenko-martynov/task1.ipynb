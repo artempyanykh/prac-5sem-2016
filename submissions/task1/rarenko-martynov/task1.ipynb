{
 "cells": [
  {
   "cell_type": "code",
   "execution_count": 47,
   "metadata": {
    "collapsed": true
   },
   "outputs": [],
   "source": [
    "%matplotlib inline"
   ]
  },
  {
   "cell_type": "code",
   "execution_count": 48,
   "metadata": {
    "collapsed": false
   },
   "outputs": [],
   "source": [
    "import numpy as np\n",
    "from scipy.optimize import linprog\n",
    "import matplotlib.pyplot as plt\n",
    "\n",
    "def nash_equilibrium(A):\n",
    "    min_value = abs(np.amin(A)) + 1\n",
    "    A += min_value\n",
    "    \n",
    "    z = np.ones(A.shape[0])\n",
    "    c = -np.ones(A.shape[1])\n",
    "    w = -np.ones(A.shape[1])\n",
    "    b = np.ones(A.shape[0])\n",
    "    \n",
    "    res = linprog(w, A, b)\n",
    "    q = res.get(\"x\")\n",
    "    A = -np.transpose(A)\n",
    "    res = linprog(z, A, c)\n",
    "    p = res.get(\"x\")\n",
    "    \n",
    "    v = 1 / np.sum(p)\n",
    "    p *= v\n",
    "    q *= v\n",
    "    v = v - min_value\n",
    "    \n",
    "    return p, q, v"
   ]
  },
  {
   "cell_type": "code",
   "execution_count": 49,
   "metadata": {
    "collapsed": true
   },
   "outputs": [],
   "source": [
    "def draw(strat):\n",
    "    plt.xlim([0, len(strat) + 1])\n",
    "    plt.ylim([0, np.max(strat) + 1])\n",
    "    for i in range(len(strat)):\n",
    "        plt.scatter(i + 1, strat[i])\n",
    "        plt.plot([i + 1, i + 1], [0, strat[i]])\n",
    "    plt.show()"
   ]
  },
  {
   "cell_type": "code",
   "execution_count": 42,
   "metadata": {
    "collapsed": false
   },
   "outputs": [
    {
     "name": "stdout",
     "output_type": "stream",
     "text": [
      "Cпектр оптимальной стратегии состоит из одной точки\n",
      "v = 5.0\n",
      "p = [ 0.  1.  0.]\n",
      "q = [ 0.  0.  1.]\n"
     ]
    },
    {
     "data": {
      "image/png": "[encoded data removed]",
      "text/plain": [
       "<matplotlib.figure.Figure at 0x113de3eb8>"
      ]
     },
     "metadata": {},
     "output_type": "display_data"
    },
    {
     "data": {
      "image/png": "[encoded data removed]",
      "text/plain": [
       "<matplotlib.figure.Figure at 0x1139512b0>"
      ]
     },
     "metadata": {},
     "output_type": "display_data"
    }
   ],
   "source": [
    "print(\"Cпектр оптимальной стратегии состоит из одной точки\")\n",
    "nash_array = np.array([[7, 9, 4], [6, 8, 5], [10, -3, 2]])\n",
    "p, q, v = nash_equilibrium(nash_array)\n",
    "print(\"v =\", v)\n",
    "print(\"p =\", p)\n",
    "print(\"q =\", q)\n",
    "draw(p)\n",
    "draw(q)"
   ]
  },
  {
   "cell_type": "code",
   "execution_count": 46,
   "metadata": {
    "collapsed": false
   },
   "outputs": [
    {
     "name": "stdout",
     "output_type": "stream",
     "text": [
      "Cпектр оптимальной стратегии неполон\n",
      "v = 4.14285714286\n",
      "p = [ 0.          0.57142857  0.42857143]\n",
      "q = [ 0.28571429  0.71428571  0.        ]\n"
     ]
    },
    {
     "data": {
      "image/png": "[encoded data removed]",
      "text/plain": [
       "<matplotlib.figure.Figure at 0x11402cb70>"
      ]
     },
     "metadata": {},
     "output_type": "display_data"
    },
    {
     "data": {
      "image/png": "[encoded data removed]",
      "text/plain": [
       "<matplotlib.figure.Figure at 0x1140a3d30>"
      ]
     },
     "metadata": {},
     "output_type": "display_data"
    }
   ],
   "source": [
    "print(\"Cпектр оптимальной стратегии неполон\")\n",
    "nash_array = np.array([[1, 0, 3], [2, 5, 8], [7, 3, 3]])\n",
    "p, q, v = nash_equilibrium(nash_array)\n",
    "print(\"v =\", v)\n",
    "print(\"p =\", p)\n",
    "print(\"q =\", q)\n",
    "draw(p)\n",
    "draw(q)"
   ]
  },
  {
   "cell_type": "code",
   "execution_count": 50,
   "metadata": {
    "collapsed": false
   },
   "outputs": [
    {
     "name": "stdout",
     "output_type": "stream",
     "text": [
      "Cпектр оптимальной стратегии полон\n",
      "v = 0.0\n",
      "p = [ 0.33333333  0.33333333  0.33333333]\n",
      "q = [ 0.33333333  0.33333333  0.33333333]\n"
     ]
    },
    {
     "data": {
      "image/png": "[encoded data removed]",
      "text/plain": [
       "<matplotlib.figure.Figure at 0x1105c0dd8>"
      ]
     },
     "metadata": {},
     "output_type": "display_data"
    },
    {
     "data": {
      "image/png": "[encoded data removed]",
      "text/plain": [
       "<matplotlib.figure.Figure at 0x1105c05c0>"
      ]
     },
     "metadata": {},
     "output_type": "display_data"
    }
   ],
   "source": [
    "print(\"Cпектр оптимальной стратегии полон\")\n",
    "nash_array = np.array([[0, 3, -3], [-3, 0, 3], [3, -3, 0]])\n",
    "p, q, v = nash_equilibrium(nash_array)\n",
    "print(\"v =\", v)\n",
    "print(\"p =\", p)\n",
    "print(\"q =\", q)\n",
    "draw(p)\n",
    "draw(q)"
   ]
  },
  {
   "cell_type": "code",
   "execution_count": null,
   "metadata": {
    "collapsed": true
   },
   "outputs": [],
   "source": []
  }
 ],
 "metadata": {
  "anaconda-cloud": {},
  "kernelspec": {
   "display_name": "Python [Root]",
   "language": "python",
   "name": "Python [Root]"
  },
  "language_info": {
   "codemirror_mode": {
    "name": "ipython",
    "version": 3
   },
   "file_extension": ".py",
   "mimetype": "text/x-python",
   "name": "python",
   "nbconvert_exporter": "python",
   "pygments_lexer": "ipython3",
   "version": "3.5.2"
  }
 },
 "nbformat": 4,
 "nbformat_minor": 0
}
