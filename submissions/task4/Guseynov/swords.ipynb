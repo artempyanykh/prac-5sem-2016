{
 "cells": [
  {
   "cell_type": "code",
   "execution_count": 316,
   "metadata": {
    "collapsed": true
   },
   "outputs": [],
   "source": [
    "import pandas as pd\n",
    "import numpy as np\n",
    "import matplotlib.pyplot as plt"
   ]
  },
  {
   "cell_type": "code",
   "execution_count": 359,
   "metadata": {},
   "outputs": [],
   "source": [
    "df = pd.read_csv('input.csv', delimiter=',')\n",
    "df['duration'] = df['report.date'] - df['production.date']\n"
   ]
  },
  {
   "cell_type": "code",
   "execution_count": 318,
   "metadata": {},
   "outputs": [
    {
     "name": "stdout",
     "output_type": "stream",
     "text": [
      "== 1 month\n",
      "== 2 month\n",
      "== 3 month\n",
      "== 4 month\n",
      "== 5 month\n",
      "== 6 month\n",
      "== 7 month\n",
      "[0.91516205533596839, 0.93473517786561267, 0.95241106719367585, 0.96622924901185769, 0.97890909090909095, 0.9911146245059288, 1.0]\n",
      "27.3480158103\n"
     ]
    }
   ],
   "source": [
    "# Плотность распределения для harpy.co\n",
    "comp = 'westeros.inc'\n",
    "steel = df[df['supplier'] == comp].produced.sum()\n",
    "prob = []\n",
    "for interval in range(1, 8):\n",
    "    query = df[(df['supplier'] ==  comp) & (df.duration == interval)]\n",
    "    print('== %s month' % interval)\n",
    "    v = query.defects.sum() / steel\n",
    "    prob.append(1 - v)\n",
    "print(prob)\n",
    "expected_life = sum(m * p for m, p in zip(range(1, 10), prob))\n",
    "print(expected_life)"
   ]
  },
  {
   "cell_type": "code",
   "execution_count": 320,
   "metadata": {
    "scrolled": true
   },
   "outputs": [
    {
     "name": "stdout",
     "output_type": "stream",
     "text": [
      "== 1 month\n",
      "0.0856151419558\n",
      "== 2 month\n",
      "0.052429022082\n",
      "== 3 month\n",
      "0.0254258675079\n",
      "== 4 month\n",
      "0.0\n",
      "== 5 month\n",
      "0.0\n",
      "== 6 month\n",
      "0.0\n",
      "== 7 month\n",
      "0.0\n"
     ]
    }
   ],
   "source": [
    "# Плотность распределения для Westeros Inc.\n",
    "steel = df[(df['production.date'] < 4) & (df['supplier'] == 'westeros.inc')].produced.sum()\n",
    "for interval in range(1, 8):\n",
    "    query = df[(df['supplier'] == 'westeros.inc') & (df.duration == interval) & (df['report.date'] < 5)]\n",
    "    print('== %s month' % interval)\n",
    "    print(query.defects.sum() / steel)"
   ]
  },
  {
   "cell_type": "code",
   "execution_count": 428,
   "metadata": {},
   "outputs": [
    {
     "name": "stdout",
     "output_type": "stream",
     "text": [
      "0.0240091463415\n",
      "0.0258238581615\n",
      "0.0261838077249\n",
      "0.0583205654129\n",
      "0.0731396114587\n",
      "0.0837683141942\n",
      "---------\n",
      "0.0850378787879\n",
      "0.0843313867168\n",
      "0.0886658876899\n",
      "0.0848252804142\n",
      "0.0861293514437\n",
      "0.0856885618101\n",
      "---------\n"
     ]
    }
   ],
   "source": [
    "# Доля дефектных мечей по месяцам\n",
    "res = {'harpy.co': [], 'westeros.inc': []}\n",
    "for comp in ['harpy.co', 'westeros.inc']:\n",
    "    comp_df = df[df.supplier == comp]\n",
    "    for n in range(2, 8):\n",
    "        query = comp_df[comp_df['report.date'] < n]\n",
    "        fr = comp_df[comp_df['report.date'] == n].defects.sum()\n",
    "        den = query.produced.sum() - query.defects.sum()\n",
    "        res[comp].append(fr / den)\n",
    "        print(fr / den)\n",
    "    print('---------')\n",
    "harpy_co, west_inc = res['harpy.co'], res['westeros.inc']\n",
    "avg = sum(west_inc)/len(west_inc)\n",
    "for i in range(100):\n",
    "    harpy_co.append(0.09)\n",
    "    west_inc.append(avg)\n",
    "\n",
    "\n",
    "\n",
    "# d = (np.array([harpy_co, west_inc])).transpose()\n",
    "\n",
    "# ddf = pd.DataFrame(data=d)\n",
    "# rvals = [str(i) for i in range(1, 7)]\n",
    "# ddf.columns = ['harpy.co', 'westeros.inc']\n",
    "# ax = ddf.plot(kind='barh', stacked=False)\n",
    "# ax.set_yticklabels(rvals)\n",
    "\n",
    "# plt.title('Probability of breaking on month')\n",
    "# plt.show()"
   ]
  },
  {
   "cell_type": "code",
   "execution_count": 457,
   "metadata": {
    "collapsed": true
   },
   "outputs": [],
   "source": [
    "M = 72"
   ]
  },
  {
   "cell_type": "code",
   "execution_count": 458,
   "metadata": {},
   "outputs": [],
   "source": [
    "harpy = [sum(harpy_co[:i]) for i in range(M)]"
   ]
  },
  {
   "cell_type": "code",
   "execution_count": 459,
   "metadata": {},
   "outputs": [
    {
     "name": "stdout",
     "output_type": "stream",
     "text": [
      "[0, 0.085037878787878787, 0.16936926550469555, 0.25803515319457115, 0.34286043360872132, 0.42898978505245611, 0.51467834686252423, 0.6004580713396116, 0.68623779581669897, 0.77201752029378634, 0.85779724477087371, 0.94357696924796108, 1.0293566937250485, 1.1151364182021357, 1.200916142679223, 1.2866958671563102, 1.3724755916333975, 1.4582553161104848, 1.544035040587572, 1.6298147650646593, 1.7155944895417465, 1.8013742140188338, 1.8871539384959211, 1.9729336629730083, 2.0587133874500956, 2.1444931119271828, 2.2302728364042701, 2.3160525608813574, 2.4018322853584446, 2.4876120098355319, 2.5733917343126191, 2.6591714587897064, 2.7449511832667937, 2.8307309077438809, 2.9165106322209682, 3.0022903566980554, 3.0880700811751427, 3.17384980565223, 3.2596295301293172, 3.3454092546064045, 3.4311889790834917, 3.516968703560579, 3.6027484280376663, 3.6885281525147535, 3.7743078769918408, 3.860087601468928, 3.9458673259460153, 4.0316470504231026, 4.1174267749001903, 4.203206499377278, 4.2889862238543657, 4.3747659483314534, 4.4605456728085411, 4.5463253972856288, 4.6321051217627165, 4.7178848462398042, 4.8036645707168919, 4.8894442951939796, 4.9752240196710673, 5.061003744148155, 5.1467834686252427, 5.2325631931023304, 5.3183429175794181, 5.4041226420565058, 5.4899023665335935, 5.5756820910106812, 5.6614618154877689, 5.7472415399648566, 5.8330212644419444, 5.9188009889190321, 6.0045807133961198, 6.0903604378732075]\n"
     ]
    }
   ],
   "source": [
    "wes = [sum(west_inc[:i]) for i in range(M)]\n",
    "print(wes)\n"
   ]
  },
  {
   "cell_type": "code",
   "execution_count": 460,
   "metadata": {},
   "outputs": [
    {
     "data": {
      "image/png": "[encoded data removed]",
      "text/plain": [
       "<matplotlib.figure.Figure at 0x11271eba8>"
      ]
     },
     "metadata": {},
     "output_type": "display_data"
    }
   ],
   "source": [
    "import matplotlib.pyplot as plt\n",
    "plt.plot(range(len(wes)), wes, color='blue')\n",
    "plt.plot(range(len(wes)), harpy, color='red')\n",
    "plt.show()"
   ]
  },
  {
   "cell_type": "code",
   "execution_count": 462,
   "metadata": {},
   "outputs": [
    {
     "name": "stdout",
     "output_type": "stream",
     "text": [
      "[1.0245997657165171, 1.0517602738482703, 1.0800398290677877, 1.1469294001746997, 1.2374349085947201, 1.3505698697883359, 1.4841427140531163, 1.6309260593990289, 1.7922264389000317, 1.969479603186848, 2.1642633002053273, 2.3783113189069534, 2.6135289218757727, 2.8720098042590907, 3.1560547299550445, 3.4681920109396094, 3.8112000120215481, 4.1881318813423611, 4.6023427267498471, 5.0575194799448875, 5.5577137142251507, 6.107377707939726, 6.7114040746590389, 7.3751693128121296, 8.1045816624309115, 8.9061336949790224, 9.7869601043725538, 10.754901213596211, 11.818572762193638, 12.987442595817186, 14.271914940458446, 15.683423011492799, 17.234530781860219, 18.939044815231007, 20.812137159594513, 22.870480395158804, 25.132396038636049, 27.618017624874774, 30.349469917444807, 33.351065843345943, 36.649522904775758, 40.274200994259076, 44.257363729955024, 48.634465637313212, 53.444467733311221, 58.730184322320014, 64.538664090461552, 70.921608890617094, 77.935833945733052, 85.643773566739625, 94.114036886527046, 103.42201855662312, 113.65056984244299, 124.89073609059668, 137.24256713252382, 150.81600783793826, 165.73187674498709, 182.12294147800779, 200.13510052528329, 219.9286818959157, 241.67987021529194, 265.58227496185924, 291.84865380424094, 320.71280637828676, 352.43165536075463, 387.28753336346665, 425.59069600380946, 467.68208352066966, 513.93635551721945, 564.76522584309828, 620.6211273001079, 682.0012387913273]\n"
     ]
    },
    {
     "data": {
      "image/png": "[encoded data removed]",
      "text/plain": [
       "<matplotlib.figure.Figure at 0x112514ef0>"
      ]
     },
     "metadata": {},
     "output_type": "display_data"
    },
    {
     "name": "stdout",
     "output_type": "stream",
     "text": [
      "[1.09294141999586, 1.1935993045312046, 1.3097274516648689, 1.4311228486048746, 1.5660015461332142, 1.7127660015207042, 1.8734719053797424, 2.0492565692750144, 2.2415348074651784, 2.4518541838104313, 2.6819074674405226, 2.9335462571167921, 3.2087958839447879, 3.5098717123829171, 3.8391969707468503, 4.1994222547196509, 4.5934468608428967, 5.0244421216927755, 5.4958769305558359, 6.0115456610413966, 6.5755987063434276, 7.1925758839491261, 7.867442974654157, 8.605631689971176, 9.4130833896119359, 10.296296900905935, 11.262380825033327, 12.319110751062164, 13.4749918382809, 14.739327270524075, 16.122293133450277, 17.635020317427003, 19.289684105223092, 21.099602165561077, 23.07934174123692, 25.244836894517658, 27.613516753474102, 30.204445791447597, 33.038477268699125, 36.138421071225849, 39.52922729760671, 43.238187071487687, 47.295152195958956, 51.732775417726586, 56.586773234860317, 61.896213363342888, 67.703829176113715, 74.056363645390277, 81.004945556509099, 88.605501021267713, 96.919203602859753, 106.0129666752624, 115.95998197986309, 126.84030871393296, 138.74151789226428, 151.75939716815773, 165.9987217865573, 181.57409787439892, 198.61088485544994, 217.24620441375484, 237.63004412639512, 259.92646464822309, 284.31492016467388, 310.9917027404062, 340.17152218870467, 372.08923417732615, 407.00173047956065, 445.190006584316, 486.96142330651952, 532.65218060055497, 582.63002348738144, 637.29720187416615]\n"
     ]
    }
   ],
   "source": [
    "den = 1\n",
    "ans = []\n",
    "for m in range(M):\n",
    "    den *= 1 - harpy_co[m]\n",
    "    ans.append(1 / den)\n",
    "\n",
    "print(ans)\n",
    "harpy = ans\n",
    "\n",
    "ans = []\n",
    "den = 1\n",
    "for m in range(M):\n",
    "    den *= 1 - west_inc[m]\n",
    "    ans.append(1 / den)\n",
    "import matplotlib.pyplot as plt\n",
    "plt.plot(range(len(wes)), ans)\n",
    "plt.plot(harpy, color='red')\n",
    "#plt.ylabel('some numbers')\n",
    "\n",
    "plt.show()\n",
    "print(ans)"
   ]
  },
  {
   "cell_type": "code",
   "execution_count": null,
   "metadata": {
    "collapsed": true
   },
   "outputs": [],
   "source": []
  },
  {
   "cell_type": "code",
   "execution_count": null,
   "metadata": {
    "collapsed": true
   },
   "outputs": [],
   "source": []
  },
  {
   "cell_type": "code",
   "execution_count": null,
   "metadata": {
    "collapsed": true
   },
   "outputs": [],
   "source": []
  }
 ],
 "metadata": {
  "kernelspec": {
   "display_name": "Python 3",
   "language": "python",
   "name": "python3"
  },
  "language_info": {
   "codemirror_mode": {
    "name": "ipython",
    "version": 3
   },
   "file_extension": ".py",
   "mimetype": "text/x-python",
   "name": "python",
   "nbconvert_exporter": "python",
   "pygments_lexer": "ipython3",
   "version": "3.5.2"
  }
 },
 "nbformat": 4,
 "nbformat_minor": 2
}
